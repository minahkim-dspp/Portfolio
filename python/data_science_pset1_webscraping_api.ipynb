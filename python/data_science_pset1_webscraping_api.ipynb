{
 "cells": [
  {
   "cell_type": "markdown",
   "metadata": {},
   "source": [
    "# PART I\n",
    "For this part of the assignment, you will scrape the homepage for Project Gutenberg at http://www.gutenberg.org/.\n",
    "\n",
    "1.**Review** the source code of the webpage. List three of the types of HTML tags you found on the page and explain what elements of the pages are created by those tags\n"
   ]
  },
  {
   "cell_type": "markdown",
   "metadata": {},
   "source": [
    "- &lt;h1>&lt;/h1> and &lt;h2>&lt;/h2> represent the section heading of the website. It can extend until &lt;h6>&lt;/h6> when &lt;h1>&lt;h1> being the highest and the &lt;h6>&lt;/h6> loewst level of heading (mdm, n.d.a). In the website, a lot of bold title texts with the yellowish-green color (e.g. Welcome to Project Gutenberg, Find Free eBooks) are the product of the &lt;h1> or the &lt;h2> tags. \n",
    "\n",
    "- &lt;p>&lt;/p> is the element for a paragraph. Most of the &lt;p>&lt;/p> are solely text paragraphs (mdm, n.d.b). For instance, under the subtitle \"Project Gutenberg is a library of over 60,000 free eBooks\", there are series of text paragraphs created by the &lt;p> tag, except the blue boxe, which is defined by the &lt;div> tag (content division element).   \n",
    "\n",
    "- &lt;ul>&lt;/ul> is the unordered list element (mdm, n.d.c)  . All list that begins with the dots are created by this tag. Some incldues the list below 'Find Free eBooks', 'Get Help', 'How to Help', and 'Special Areas' \n"
   ]
  },
  {
   "cell_type": "markdown",
   "metadata": {},
   "source": [
    "2.**Request** the contents of the webpage and display the HTTP response code for the request."
   ]
  },
  {
   "cell_type": "code",
   "execution_count": 130,
   "metadata": {},
   "outputs": [],
   "source": [
    "# Import Packages\n",
    "#####################################\n",
    "# import packages for the rest of the problem sets\n",
    "import requests\n",
    "import bs4\n",
    "import json\n",
    "import pandas as pd"
   ]
  },
  {
   "cell_type": "code",
   "execution_count": 131,
   "metadata": {},
   "outputs": [
    {
     "data": {
      "text/plain": [
       "200"
      ]
     },
     "execution_count": 131,
     "metadata": {},
     "output_type": "execute_result"
    }
   ],
   "source": [
    "# Access\n",
    "#####################################\n",
    "# Create a variable gutenberg_site that includes the address of the Project Gutenberg website\n",
    "gutenberg_site = \"http://www.gutenberg.org/\"\n",
    "\n",
    "# Get the files from the website using the get function of the request package.\n",
    "# The result will be stored in the server_response variable.\n",
    "server_response = requests.get(gutenberg_site)\n",
    "\n",
    "# Print out the status quo from the server_response\n",
    "server_response.status_code"
   ]
  },
  {
   "cell_type": "markdown",
   "metadata": {},
   "source": [
    "3.Display a list of instances containing \"h2\" tags (**Parse**)"
   ]
  },
  {
   "cell_type": "code",
   "execution_count": 132,
   "metadata": {},
   "outputs": [
    {
     "name": "stdout",
     "output_type": "stream",
     "text": [
      "<h2 class=\"subtitle\">Project Gutenberg is a library of over 60,000 free eBooks</h2>\n",
      "<h2 id=\"find-free-ebooks\">Find Free eBooks</h2>\n",
      "<h2 id=\"get-help\">Get Help</h2>\n",
      "<h2 id=\"how-to-help\">How to Help</h2>\n",
      "<h2 id=\"special-areas\">Special Areas</h2>\n",
      "<h2 id=\"terms-of-use\">Terms of Use</h2>\n",
      "<h2 id=\"social-media\">Social Media</h2>\n"
     ]
    }
   ],
   "source": [
    "# Parse\n",
    "#####################################\n",
    "# Use BeautifulSoup to parse the HTML elements from the text (or the website HTML code) of the server_response\n",
    "# We will create a soup object in this process.\n",
    "# We will also clarify that we are parsing the html\n",
    "soup_object = bs4.BeautifulSoup(server_response.text, features=\"html.parser\")\n",
    "\n",
    "# Use the find_all method of the soup object to extract all tag with \"h2\".\n",
    "# I use the for loop to print the results.\n",
    "for h2_tag in soup_object.find_all(\"h2\"):\n",
    "    print(h2_tag)"
   ]
  },
  {
   "cell_type": "markdown",
   "metadata": {},
   "source": [
    "4.Display a list of all text included within bullet points. (**Parse**)"
   ]
  },
  {
   "cell_type": "code",
   "execution_count": 133,
   "metadata": {},
   "outputs": [
    {
     "name": "stdout",
     "output_type": "stream",
     "text": [
      "\n",
      "Search and browse. By author, title, subject, language, type, popularity, and more.\n",
      "Bookshelves of related eBooks.\n",
      "Frequently downloaded: Top 100, or ranked by popularity.\n",
      "Offline catalogs: handy eBook listings and metadata to consult offline.\n",
      "Recently added. The latest new and updated eBooks.\n",
      "Visit self.gutenberg.org for free eBooks by contemporary authors.\n",
      "\n",
      "\n",
      "Frequently Asked Questions about Project Gutenberg.\n",
      "Help, How-To and FAQs: In depth information about many topics.\n",
      "Tablets, phones and eReaders How-To: Using tablets, Kindle, Nook, cell phone, and other mobile devices and readers.\n",
      "\n",
      "\n",
      "Distributed Proofreaders welcomes new volunteers. This is the main source of new Project Gutenberg eBooks. Getting started is easy, and just a page a day will help!\n",
      "Fix and improve Project Gutenberg by reporting errors, bugs, typos, and suggesting changes.\n",
      "Record audiobooks with our friends at LibriVox.\n",
      "\n",
      "\n",
      "About Project Gutenberg.\n",
      "Donating to Project Gutenberg.\n",
      "Feeds of new eBooks.\n",
      "Linking to Project Gutenberg and roboting or crawling the site.\n",
      "Partners and affiliates.\n",
      "Permissions, copyright, licensing, and trademark information.\n",
      "What does free eBook (No Cost or Freedom?) mean?\n",
      "\n",
      "\n",
      "\n",
      "Privacy policy\n",
      "\n",
      "\n",
      "About Project Gutenberg\n",
      "\n",
      "\n",
      "Terms of Use\n",
      "\n",
      "\n",
      "Contact Information\n",
      "\n",
      "Get Help\n",
      "\n"
     ]
    }
   ],
   "source": [
    "# Parse\n",
    "#####################################\n",
    "# print the text in all the text within the ul tag \n",
    "# I specify the class to be empty (none) - I receive an advise from my classmate about using this parameter.\n",
    "for tag in soup_object.find_all(\"ul\", class_= None):\n",
    "    print(tag.text)"
   ]
  },
  {
   "cell_type": "markdown",
   "metadata": {},
   "source": [
    "# PART II"
   ]
  },
  {
   "cell_type": "markdown",
   "metadata": {},
   "source": [
    "1.Using the RAPTOR model, write an API query that returns up to 200 results of songs either created by or featuring an artist of your choice. Convert the query response to a dataframe."
   ]
  },
  {
   "cell_type": "code",
   "execution_count": 134,
   "metadata": {},
   "outputs": [],
   "source": [
    "# Review\n",
    "####################################\n",
    "# We check the query of the API and plan how to construct our query\n",
    "# host includes the universally shared portion of the itunes API url\n",
    "host = 'https://itunes.apple.com/search'"
   ]
  },
  {
   "cell_type": "code",
   "execution_count": 135,
   "metadata": {},
   "outputs": [
    {
     "data": {
      "text/plain": [
       "<Response [200]>"
      ]
     },
     "execution_count": 135,
     "metadata": {},
     "output_type": "execute_result"
    }
   ],
   "source": [
    "# Access\n",
    "####################################\n",
    "# 1. Build the API get request by specifying the parameters and adding it to the host\n",
    "# In this question, we need to specify an artist (Sarah Chang) in the query\n",
    "# I also specify the entity to song, attribute to artist ternm, and limit to 200 results\n",
    "param = \"?term=sarah+chang&attribute=artistTerm&limit=200\"\n",
    "url = host + param\n",
    "\n",
    "# 2. Use the request method of the requests package to retrieve information.\n",
    "# We store the returned result to response\n",
    "# We can also check that the request was successful through the response type\n",
    "response = requests.get(url)\n",
    "response\n"
   ]
  },
  {
   "cell_type": "code",
   "execution_count": 136,
   "metadata": {},
   "outputs": [],
   "source": [
    "# Parse\n",
    "####################################\n",
    "# 1. Parse the json file returned from the API request to variable songs_sh\n",
    "songs_sh = response.json()"
   ]
  },
  {
   "cell_type": "code",
   "execution_count": 137,
   "metadata": {},
   "outputs": [
    {
     "name": "stdout",
     "output_type": "stream",
     "text": [
      "{\n",
      "    \"resultCount\": 200,\n",
      "    \"results\": [\n",
      "        {\n",
      "            \"artistId\": 604437,\n",
      "            \"artistName\": \"Sarah Chang & Orpheus Chamber Orchestra\",\n",
      "            \"artistViewUrl\": \"https://music.apple.com/us/artist/sarah-chang/604437?uo=4\",\n",
      "            \"artworkUrl100\": \"https://is2-ssl.mzstatic.com/image/thumb/Music124/v4/15/f2/1e/15f21e07-668f-d69e-2184-2d89cf4fe650/5099950024452.jpg/100x100bb.jpg\",\n",
      "            \"artworkUrl30\": \"https://is2-ssl.mzstatic.com/image/thumb/Music124/v4/15/f2/1e/15f21e07-668f-d69e-2184-2d89cf4fe650/5099950024452.jpg/30x30bb.jpg\",\n",
      "            \"artworkUrl60\": \"https://is2-ssl.mzstatic.com/image/thumb/Music124/v4/15/f2/1e/15f21e07-668f-d69e-2184-2d89cf4fe650/5099950024452.jpg/60x60bb.jpg\",\n",
      "            \"collectionArtistName\": \"Sarah Chang\",\n",
      "            \"collectionCensoredName\": \"Vivaldi: The Four Seasons\",\n",
      "            \"collectionExplicitness\": \"notExplicit\",\n",
      "            \"collectionId\": 732111867,\n",
      "            \"collectionName\": \"Vivaldi: The Four Seasons\",\n",
      "            \"collectionPrice\": 7.99,\n",
      "            \"collectionViewUrl\": \"https://music.apple.com/us/album/the-four-seasons-concerto-no-1-in-e-major-rv-269/732111867?i=732112051&uo=4\",\n",
      "            \"country\": \"USA\",\n",
      "            \"currency\": \"USD\",\n",
      "            \"discCount\": 1,\n",
      "            \"discNumber\": 1,\n",
      "            \"isStreamable\": true,\n",
      "            \"kind\": \"song\",\n",
      "            \"previewUrl\": \"https://audio-ssl.itunes.apple.com/itunes-assets/AudioPreview125/v4/83/70/8d/83708d82-b5db-64c5-b3ef-65cc07c5aa67/m\n"
     ]
    }
   ],
   "source": [
    "# Transform\n",
    "####################################\n",
    "# 1. Navigate the result by transforming to a more easily readable format\n",
    "# I only printed the first 1500 characters due to space constraint\n",
    "print((json.dumps(songs_sh, indent=4, sort_keys=True))[:1500])\n",
    "\n",
    "# 2. Extract the needed information from the response by including only those under \"results\" in data\n",
    "data = songs_sh['results']"
   ]
  },
  {
   "cell_type": "code",
   "execution_count": 138,
   "metadata": {},
   "outputs": [
    {
     "data": {
      "text/plain": [
       "str"
      ]
     },
     "execution_count": 138,
     "metadata": {},
     "output_type": "execute_result"
    }
   ],
   "source": [
    "type(json.dumps(songs_sh, indent=4, sort_keys=True))\n"
   ]
  },
  {
   "cell_type": "code",
   "execution_count": 139,
   "metadata": {},
   "outputs": [
    {
     "data": {
      "text/html": [
       "<div>\n",
       "<style scoped>\n",
       "    .dataframe tbody tr th:only-of-type {\n",
       "        vertical-align: middle;\n",
       "    }\n",
       "\n",
       "    .dataframe tbody tr th {\n",
       "        vertical-align: top;\n",
       "    }\n",
       "\n",
       "    .dataframe thead th {\n",
       "        text-align: right;\n",
       "    }\n",
       "</style>\n",
       "<table border=\"1\" class=\"dataframe\">\n",
       "  <thead>\n",
       "    <tr style=\"text-align: right;\">\n",
       "      <th></th>\n",
       "      <th>wrapperType</th>\n",
       "      <th>kind</th>\n",
       "      <th>artistId</th>\n",
       "      <th>collectionId</th>\n",
       "      <th>trackId</th>\n",
       "      <th>artistName</th>\n",
       "      <th>collectionName</th>\n",
       "      <th>trackName</th>\n",
       "      <th>collectionCensoredName</th>\n",
       "      <th>trackCensoredName</th>\n",
       "      <th>...</th>\n",
       "      <th>collectionHdPrice</th>\n",
       "      <th>trackHdPrice</th>\n",
       "      <th>trackHdRentalPrice</th>\n",
       "      <th>contentAdvisoryRating</th>\n",
       "      <th>shortDescription</th>\n",
       "      <th>longDescription</th>\n",
       "      <th>feedUrl</th>\n",
       "      <th>artworkUrl600</th>\n",
       "      <th>genreIds</th>\n",
       "      <th>genres</th>\n",
       "    </tr>\n",
       "  </thead>\n",
       "  <tbody>\n",
       "    <tr>\n",
       "      <th>0</th>\n",
       "      <td>track</td>\n",
       "      <td>song</td>\n",
       "      <td>604437.0</td>\n",
       "      <td>732111867.0</td>\n",
       "      <td>732112051</td>\n",
       "      <td>Sarah Chang &amp; Orpheus Chamber Orchestra</td>\n",
       "      <td>Vivaldi: The Four Seasons</td>\n",
       "      <td>The Four Seasons, Concerto No. 1 in E Major, R...</td>\n",
       "      <td>Vivaldi: The Four Seasons</td>\n",
       "      <td>The Four Seasons, Concerto No. 1 in E Major, R...</td>\n",
       "      <td>...</td>\n",
       "      <td>NaN</td>\n",
       "      <td>NaN</td>\n",
       "      <td>NaN</td>\n",
       "      <td>NaN</td>\n",
       "      <td>NaN</td>\n",
       "      <td>NaN</td>\n",
       "      <td>NaN</td>\n",
       "      <td>NaN</td>\n",
       "      <td>NaN</td>\n",
       "      <td>NaN</td>\n",
       "    </tr>\n",
       "    <tr>\n",
       "      <th>1</th>\n",
       "      <td>track</td>\n",
       "      <td>song</td>\n",
       "      <td>67263975.0</td>\n",
       "      <td>732024307.0</td>\n",
       "      <td>732024354</td>\n",
       "      <td>Dresdner Philharmonie, Kurt Masur &amp; Sarah Chang</td>\n",
       "      <td>Bruch/Brahms: Violin Concertos</td>\n",
       "      <td>Violin Concerto No. 1 in G Minor, Op. 26: I. V...</td>\n",
       "      <td>Bruch/Brahms: Violin Concertos</td>\n",
       "      <td>Violin Concerto No. 1 in G Minor, Op. 26: I. V...</td>\n",
       "      <td>...</td>\n",
       "      <td>NaN</td>\n",
       "      <td>NaN</td>\n",
       "      <td>NaN</td>\n",
       "      <td>NaN</td>\n",
       "      <td>NaN</td>\n",
       "      <td>NaN</td>\n",
       "      <td>NaN</td>\n",
       "      <td>NaN</td>\n",
       "      <td>NaN</td>\n",
       "      <td>NaN</td>\n",
       "    </tr>\n",
       "    <tr>\n",
       "      <th>2</th>\n",
       "      <td>track</td>\n",
       "      <td>song</td>\n",
       "      <td>67263975.0</td>\n",
       "      <td>732024307.0</td>\n",
       "      <td>732024385</td>\n",
       "      <td>Dresdner Philharmonie, Kurt Masur &amp; Sarah Chang</td>\n",
       "      <td>Bruch/Brahms: Violin Concertos</td>\n",
       "      <td>Violin Concerto in D Major, Op. 77: III. Alleg...</td>\n",
       "      <td>Bruch/Brahms: Violin Concertos</td>\n",
       "      <td>Violin Concerto in D Major, Op. 77: III. Alleg...</td>\n",
       "      <td>...</td>\n",
       "      <td>NaN</td>\n",
       "      <td>NaN</td>\n",
       "      <td>NaN</td>\n",
       "      <td>NaN</td>\n",
       "      <td>NaN</td>\n",
       "      <td>NaN</td>\n",
       "      <td>NaN</td>\n",
       "      <td>NaN</td>\n",
       "      <td>NaN</td>\n",
       "      <td>NaN</td>\n",
       "    </tr>\n",
       "    <tr>\n",
       "      <th>3</th>\n",
       "      <td>track</td>\n",
       "      <td>song</td>\n",
       "      <td>67263975.0</td>\n",
       "      <td>732024307.0</td>\n",
       "      <td>732024363</td>\n",
       "      <td>Dresdner Philharmonie, Kurt Masur &amp; Sarah Chang</td>\n",
       "      <td>Bruch/Brahms: Violin Concertos</td>\n",
       "      <td>Violin Concerto No. 1 in G Minor, Op. 26: III....</td>\n",
       "      <td>Bruch/Brahms: Violin Concertos</td>\n",
       "      <td>Violin Concerto No. 1 in G Minor, Op. 26: III....</td>\n",
       "      <td>...</td>\n",
       "      <td>NaN</td>\n",
       "      <td>NaN</td>\n",
       "      <td>NaN</td>\n",
       "      <td>NaN</td>\n",
       "      <td>NaN</td>\n",
       "      <td>NaN</td>\n",
       "      <td>NaN</td>\n",
       "      <td>NaN</td>\n",
       "      <td>NaN</td>\n",
       "      <td>NaN</td>\n",
       "    </tr>\n",
       "    <tr>\n",
       "      <th>4</th>\n",
       "      <td>track</td>\n",
       "      <td>song</td>\n",
       "      <td>67263975.0</td>\n",
       "      <td>732024307.0</td>\n",
       "      <td>732024356</td>\n",
       "      <td>Dresdner Philharmonie, Kurt Masur &amp; Sarah Chang</td>\n",
       "      <td>Bruch/Brahms: Violin Concertos</td>\n",
       "      <td>Violin Concerto No. 1 in G Minor, Op. 26: II. ...</td>\n",
       "      <td>Bruch/Brahms: Violin Concertos</td>\n",
       "      <td>Violin Concerto No. 1 in G Minor, Op. 26: II. ...</td>\n",
       "      <td>...</td>\n",
       "      <td>NaN</td>\n",
       "      <td>NaN</td>\n",
       "      <td>NaN</td>\n",
       "      <td>NaN</td>\n",
       "      <td>NaN</td>\n",
       "      <td>NaN</td>\n",
       "      <td>NaN</td>\n",
       "      <td>NaN</td>\n",
       "      <td>NaN</td>\n",
       "      <td>NaN</td>\n",
       "    </tr>\n",
       "  </tbody>\n",
       "</table>\n",
       "<p>5 rows × 45 columns</p>\n",
       "</div>"
      ],
      "text/plain": [
       "  wrapperType  kind    artistId  collectionId    trackId  \\\n",
       "0       track  song    604437.0   732111867.0  732112051   \n",
       "1       track  song  67263975.0   732024307.0  732024354   \n",
       "2       track  song  67263975.0   732024307.0  732024385   \n",
       "3       track  song  67263975.0   732024307.0  732024363   \n",
       "4       track  song  67263975.0   732024307.0  732024356   \n",
       "\n",
       "                                        artistName  \\\n",
       "0          Sarah Chang & Orpheus Chamber Orchestra   \n",
       "1  Dresdner Philharmonie, Kurt Masur & Sarah Chang   \n",
       "2  Dresdner Philharmonie, Kurt Masur & Sarah Chang   \n",
       "3  Dresdner Philharmonie, Kurt Masur & Sarah Chang   \n",
       "4  Dresdner Philharmonie, Kurt Masur & Sarah Chang   \n",
       "\n",
       "                   collectionName  \\\n",
       "0       Vivaldi: The Four Seasons   \n",
       "1  Bruch/Brahms: Violin Concertos   \n",
       "2  Bruch/Brahms: Violin Concertos   \n",
       "3  Bruch/Brahms: Violin Concertos   \n",
       "4  Bruch/Brahms: Violin Concertos   \n",
       "\n",
       "                                           trackName  \\\n",
       "0  The Four Seasons, Concerto No. 1 in E Major, R...   \n",
       "1  Violin Concerto No. 1 in G Minor, Op. 26: I. V...   \n",
       "2  Violin Concerto in D Major, Op. 77: III. Alleg...   \n",
       "3  Violin Concerto No. 1 in G Minor, Op. 26: III....   \n",
       "4  Violin Concerto No. 1 in G Minor, Op. 26: II. ...   \n",
       "\n",
       "           collectionCensoredName  \\\n",
       "0       Vivaldi: The Four Seasons   \n",
       "1  Bruch/Brahms: Violin Concertos   \n",
       "2  Bruch/Brahms: Violin Concertos   \n",
       "3  Bruch/Brahms: Violin Concertos   \n",
       "4  Bruch/Brahms: Violin Concertos   \n",
       "\n",
       "                                   trackCensoredName  ... collectionHdPrice  \\\n",
       "0  The Four Seasons, Concerto No. 1 in E Major, R...  ...               NaN   \n",
       "1  Violin Concerto No. 1 in G Minor, Op. 26: I. V...  ...               NaN   \n",
       "2  Violin Concerto in D Major, Op. 77: III. Alleg...  ...               NaN   \n",
       "3  Violin Concerto No. 1 in G Minor, Op. 26: III....  ...               NaN   \n",
       "4  Violin Concerto No. 1 in G Minor, Op. 26: II. ...  ...               NaN   \n",
       "\n",
       "  trackHdPrice trackHdRentalPrice contentAdvisoryRating shortDescription  \\\n",
       "0          NaN                NaN                   NaN              NaN   \n",
       "1          NaN                NaN                   NaN              NaN   \n",
       "2          NaN                NaN                   NaN              NaN   \n",
       "3          NaN                NaN                   NaN              NaN   \n",
       "4          NaN                NaN                   NaN              NaN   \n",
       "\n",
       "  longDescription feedUrl artworkUrl600  genreIds  genres  \n",
       "0             NaN     NaN           NaN       NaN     NaN  \n",
       "1             NaN     NaN           NaN       NaN     NaN  \n",
       "2             NaN     NaN           NaN       NaN     NaN  \n",
       "3             NaN     NaN           NaN       NaN     NaN  \n",
       "4             NaN     NaN           NaN       NaN     NaN  \n",
       "\n",
       "[5 rows x 45 columns]"
      ]
     },
     "execution_count": 139,
     "metadata": {},
     "output_type": "execute_result"
    }
   ],
   "source": [
    "# Store\n",
    "####################################\n",
    "# 1. Store the information in a dictionary format (data) in a dataframe (df)\n",
    "df= pd.DataFrame.from_dict(data)\n",
    "\n",
    "#print the head of the dataframe(df)\n",
    "df.head()\n"
   ]
  },
  {
   "cell_type": "markdown",
   "metadata": {},
   "source": [
    "2.Examine the data and describe the following **attributes** as binary, discrete, or continuous. Also describe them as **qualitative** (specify whether nominal or ordinal) or **quantitative** (specify whether interval or ratio). Some cases may have more than one interpretation, so briefly indicate your reasoning if you think there may be some ambiguity."
   ]
  },
  {
   "cell_type": "markdown",
   "metadata": {},
   "source": [
    "- collectionId: I consider collectionID a discrete, qualitative, and nominal variable. According to the textbook, a data attribute is discrete when the data can be \"finite or countably infinite set of value\" (Tan et al., 2019, p.52) Although the collectionID is written in a float type, no single collectionId has a decimal point. (Check the first code block below.) Furthermore, the all collectionId in the 25% and 75% range has 9 digit number beginning with 7. (Check the second code block below.) I believe that we can infer from this distribution that there are specific range of numbers allocated for collectionId. Hence, I consider its data attribute to discrete. Moreover, a collectionId is qualitative because applying numerical calculation (addition, subtraction, multiplication, division, etc.) does not give us any information. In fact, based on the given information, I cannot make any inference from a collectionId of a song being one unit higher than that of another song. Thus the collectionId is a qualitative and nominal variable, which the order does not bear any meaning.\n",
    "\n",
    "- trackPrice: trackPrice is a continuous, quantitative, and ratio type of variable. I believe trackPrice is a continuous variable because of two reasons. One, it represents a value that does not exist discontinuously, which is monetary value. Similar to the flow of water, monetary value can be measured by a tool that creates discrete values but is continuous by nature. Two, the trackPrice variable is in a float type object, a numerical type that allows more flexibility than the integer type. In fact, they are values with decimal numbers, such as 12.99 and 1.29. Thus, I will argue that trackPrice is continuous. TrackPrice is also quantitative because we can derive meaningful inferences from numerical calculations. In the textbook, 'both differences and ratio' give meaningful results for the ratio type variable (Tan et al., 2019, p.50). We can know that a song is $1.00 expensive if the trackPrice is 1 bigger than that of another song. We also can know that the price is twice expensive when the trackPrice is twice higher for one song compared to another. Therefore, the attribute of trackPrice fits with the description of the quantitive ratio type. \n",
    "\n",
    "- trackTimeMillis: I classify trackTimeMills as a continuous, quantitative, and ratio type variable. Similar to trackPrice, trackTimeMillis represents a continuous value that humans can only capture using limiting observation tools - time. It is true that the trackTimeMillis records everything in milliseconds without using any decimals. Yet, when the measuring unit is small as a millisecond (and when we are not in a science lab), this phenomenon seems to happen only because of the limitation of the measuring tool rather than the intent of creating the variable. Thus, I perceive it as a continuous variable. I again view it as a quantitative, ratio type variable because it will give us a meaningful insight when we add, subtract, multiply, or divide among the value in the trackTimeMills column.\n",
    "\n",
    "- primaryGenreName: This is a discrete, qualitative, nominal variable. The primaryGenreName is composed of words that describe the genre, so its variation is finite by nature. (Check the third code block to see the list of words used in the dataset.) It is qualitative because we cannot interpret from -- nor apply -- the mathematical calculations in this column without any manipulation. It is also nominal because the genres do not have any relative order from each other by nature. \n",
    "\n",
    "- contentAdvisoryRating: This is a discrete, qualitative, ordinal variable. There is only a few values that the contentAdvisoryRating can have because the US content advisory system has a specific number of levels, such as R and NR. I also consider it qualitative, as no mathematical calculation using the raw string data can give any significant insight. However, I think it is an ordinal variable because each level has an order based on the level of violence or inappropriateness to children. For instance, NR clearly comes before R when we order based on how young someone can consume the material without parental guidance.\n",
    "\n",
    "- isStreamable: This is a binary, qualitative, nominal variable. isStreamable is a boolean variable that only allows True or False values. Thus, it fits the definition of a binary variable, which is to allow only two values. I perceive it to be qualitative because we cannot conduct any mathematical calculation without converting the boolean to a numerical variable. Finally, I conclude that it is a nominal variable as True and False do not have an innate order between them. "
   ]
  },
  {
   "cell_type": "code",
   "execution_count": 140,
   "metadata": {},
   "outputs": [
    {
     "name": "stdout",
     "output_type": "stream",
     "text": [
      "integer value count: 200\n"
     ]
    }
   ],
   "source": [
    "# 1) This for loop prints if there are any decimal points in the collectionId\n",
    "i = 0\n",
    "for id in df.collectionId:\n",
    "    \n",
    "    #divide the ID to 1 and save the remainder as decimal\n",
    "    decimal=id%1\n",
    "\n",
    "    #print if decimal is larger than 0\n",
    "    if decimal > 0:\n",
    "        print(id) \n",
    "    # if not, I increase my count variable (this will includes missing variables)\n",
    "    else: i+=1\n",
    "\n",
    "print(\"integer value count: \"+str(i))"
   ]
  },
  {
   "cell_type": "code",
   "execution_count": 141,
   "metadata": {},
   "outputs": [
    {
     "data": {
      "text/plain": [
       "count    1.960000e+02\n",
       "mean     8.057240e+08\n",
       "std      2.623155e+08\n",
       "min      3.592207e+08\n",
       "25%      6.963087e+08\n",
       "50%      7.241816e+08\n",
       "75%      7.321119e+08\n",
       "max      1.646530e+09\n",
       "Name: collectionId, dtype: float64"
      ]
     },
     "execution_count": 141,
     "metadata": {},
     "output_type": "execute_result"
    }
   ],
   "source": [
    "# 2) The summary statistics of collectionId  \n",
    "df.collectionId.describe()"
   ]
  },
  {
   "cell_type": "code",
   "execution_count": 142,
   "metadata": {},
   "outputs": [
    {
     "data": {
      "text/plain": [
       "array(['Classical', 'Action & Adventure', 'Comedy', 'News'], dtype=object)"
      ]
     },
     "execution_count": 142,
     "metadata": {},
     "output_type": "execute_result"
    }
   ],
   "source": [
    "# 3) The unique set of character for primaryGenreName\n",
    "df.primaryGenreName.unique()"
   ]
  },
  {
   "cell_type": "markdown",
   "metadata": {},
   "source": [
    "3.Can you think of a situation in which identification numbers would be useful for prediction? Explain"
   ]
  },
  {
   "cell_type": "markdown",
   "metadata": {},
   "source": [
    "I think an identification number can take two possible roles. 1) It can help to distinguish several data points with the same values but different observations. 2) If the identification number is assigned based on a specific set of rules (e.g. Zipcode, studentID in certain colleges), we can use it to derive some meaningful inferences from the data. If the identification number takes the role of the first case, it will help us understand the distribution of the observations or distinguish existing data from the generated data (possibly through prediction). For the second case, the identification number or the information derived from it will be considered like any other parameter. However, I  acknowledge that the identification number only takes roles in any of these roles when the context makes it suitable."
   ]
  },
  {
   "cell_type": "markdown",
   "metadata": {},
   "source": [
    "4.Complete the following:\n",
    "- Display the number of missing values by variable\n",
    "- Display the average trackPrice\n",
    "- Display the total number of songs corresponding to each category of trackExplicitness."
   ]
  },
  {
   "cell_type": "code",
   "execution_count": 143,
   "metadata": {},
   "outputs": [
    {
     "name": "stdout",
     "output_type": "stream",
     "text": [
      "For the variable artistId, there are 5 NaNs\n",
      "For the variable collectionId, there are 4 NaNs\n",
      "For the variable collectionName, there are 4 NaNs\n",
      "For the variable collectionCensoredName, there are 4 NaNs\n",
      "For the variable collectionArtistName, there are 98 NaNs\n",
      "For the variable artistViewUrl, there are 5 NaNs\n",
      "For the variable collectionViewUrl, there are 4 NaNs\n",
      "For the variable previewUrl, there are 1 NaNs\n",
      "For the variable discCount, there are 5 NaNs\n",
      "For the variable discNumber, there are 5 NaNs\n",
      "For the variable trackCount, there are 4 NaNs\n",
      "For the variable trackNumber, there are 5 NaNs\n",
      "For the variable isStreamable, there are 5 NaNs\n",
      "For the variable collectionArtistId, there are 161 NaNs\n",
      "For the variable collectionArtistViewUrl, there are 176 NaNs\n",
      "For the variable trackRentalPrice, there are 196 NaNs\n",
      "For the variable collectionHdPrice, there are 195 NaNs\n",
      "For the variable trackHdPrice, there are 196 NaNs\n",
      "For the variable trackHdRentalPrice, there are 196 NaNs\n",
      "For the variable contentAdvisoryRating, there are 195 NaNs\n",
      "For the variable shortDescription, there are 196 NaNs\n",
      "For the variable longDescription, there are 196 NaNs\n",
      "For the variable feedUrl, there are 199 NaNs\n",
      "For the variable artworkUrl600, there are 199 NaNs\n",
      "For the variable genreIds, there are 199 NaNs\n",
      "For the variable genres, there are 199 NaNs\n"
     ]
    }
   ],
   "source": [
    "## Display the number of missing values by variable\n",
    "# variable represent each column in df\n",
    "for variable in df.columns:\n",
    "    # num_na counts all the missing values in a column\n",
    "    num_na = df[variable].isna().sum()   \n",
    "    #if missing values are found, print the number of missing values\n",
    "    if num_na != 0:\n",
    "        print(\"For the variable \"+variable+\", there are \"+str(num_na)+\" NaNs\")"
   ]
  },
  {
   "cell_type": "code",
   "execution_count": 144,
   "metadata": {},
   "outputs": [
    {
     "data": {
      "text/plain": [
       "1.1247999999999998"
      ]
     },
     "execution_count": 144,
     "metadata": {},
     "output_type": "execute_result"
    }
   ],
   "source": [
    "#Display the average trackPrice\n",
    "df['trackPrice'].mean()"
   ]
  },
  {
   "cell_type": "code",
   "execution_count": 145,
   "metadata": {},
   "outputs": [
    {
     "data": {
      "text/plain": [
       "trackExplicitness\n",
       "cleaned          1\n",
       "notExplicit    199\n",
       "dtype: int64"
      ]
     },
     "execution_count": 145,
     "metadata": {},
     "output_type": "execute_result"
    }
   ],
   "source": [
    "#Display the total number of songs corresponding to each category of trackExplicitness.\n",
    "df.groupby(['trackExplicitness']).size()"
   ]
  },
  {
   "cell_type": "markdown",
   "metadata": {},
   "source": [
    "5.Define a function called play_time() that accepts trackTimeMillis as an argument and returns a tuple of integers representing the track's play time as (minutes, seconds)."
   ]
  },
  {
   "cell_type": "code",
   "execution_count": 146,
   "metadata": {},
   "outputs": [],
   "source": [
    "def play_time(trackTimeMillis):\n",
    "    \"\"\" This function transform the millisecond value in the trackTimeMillis into minutes and seconds\n",
    "        Argument: trackTimeMillis (integer)\n",
    "        Return: a tuple of which first element represents the unit and later the seconds (minutes, seconds.)\"\"\"\n",
    "    total_seconds = trackTimeMillis/1000\n",
    "    total_minutes = int(total_seconds//60)\n",
    "    seconds_wo_mintues = int(total_seconds - (total_minutes*60))\n",
    "    return total_minutes,seconds_wo_mintues\n"
   ]
  },
  {
   "cell_type": "markdown",
   "metadata": {},
   "source": [
    "6.Call the function play_time() to display the play time in minutes and seconds for the first five songs from the dataset that you created with the query results."
   ]
  },
  {
   "cell_type": "code",
   "execution_count": 147,
   "metadata": {},
   "outputs": [
    {
     "name": "stdout",
     "output_type": "stream",
     "text": [
      "Timestamp in Minute and Second:(3, 31)\n",
      "Timestamp in Minute and Second:(7, 56)\n",
      "Timestamp in Minute and Second:(8, 19)\n",
      "Timestamp in Minute and Second:(7, 16)\n",
      "Timestamp in Minute and Second:(7, 44)\n"
     ]
    }
   ],
   "source": [
    "# use the play_time function to print the song in minutes and seconds\n",
    "for song in df[:5]['trackTimeMillis']:\n",
    "    print(\"Timestamp in Minute and Second:\"+str(play_time(song))) "
   ]
  },
  {
   "cell_type": "markdown",
   "metadata": {},
   "source": [
    "# References\n",
    "- mdm. (n.d.a). *&lt;h1> - &lt;/h6> : The HTML section heading elements.* HTML: HyperText Markup Language. Retrieved February 8, 2023, from https://developer.mozilla.org/en-US/docs/Web/HTML/Element/Heading_Elements \n",
    "- mdm. (n.d.b). *&lt;p>: The Paragraph element.* HTML: HyperText Markup Language. Retrieved February 8, 2023, from https://developer.mozilla.org/en-US/docs/Web/HTML/Element/p\n",
    "- mdm. (n.d.c). *&lt;ul>: The Unordered List element.* HTML: HyperText Markup Language. Retrieved February 8, 2023, from https://developer.mozilla.org/en-US/docs/Web/HTML/Element/p\n",
    "- Tan, P.-N., Steinbach, M., Karpatne, A., & Kumar, V. (2019). *Introduction to data mining* (Second edition.). Pearson Education, Inc.\n",
    "\n",
    "\n"
   ]
  }
 ],
 "metadata": {
  "kernelspec": {
   "display_name": "Python 3.10.8 ('ppol564')",
   "language": "python",
   "name": "python3"
  },
  "language_info": {
   "codemirror_mode": {
    "name": "ipython",
    "version": 3
   },
   "file_extension": ".py",
   "mimetype": "text/x-python",
   "name": "python",
   "nbconvert_exporter": "python",
   "pygments_lexer": "ipython3",
   "version": "3.10.8"
  },
  "orig_nbformat": 4,
  "vscode": {
   "interpreter": {
    "hash": "bf3805b7c642c23df674b7547372af672fe9a29e9511b0f2f3a753b586ad23c3"
   }
  }
 },
 "nbformat": 4,
 "nbformat_minor": 2
}
