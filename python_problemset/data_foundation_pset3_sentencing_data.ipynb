{
 "cells": [
  {
   "cell_type": "markdown",
   "metadata": {},
   "source": [
    "# Problem Set 3 (24 points)\n",
    "\n",
    "Use the same `sentencing_cleaned` data from Problem Set 2 for this assignment. \n",
    "\n",
    "In Problem Set 2, you investigated one form of disparity in the US criminal justice system: probation versus incarceration.\n",
    "\n",
    "Here, you'll investigate a second type of disparity---the length of a defendant's sentence---and also investigate the disparities faced by defendants sentenced by the same judge for the same crime. \n",
    "\n",
    "As a reminder, the codebook is available at this link:  https://datacatalog.cookcountyil.gov/api/views/tg8v-tm6u/files/8597cdda-f7e1-44d1-b0ce-0a4e43f8c980?download=true&filename=CCSAO%20Data%20Glossary.pdf)"
   ]
  },
  {
   "cell_type": "markdown",
   "metadata": {},
   "source": [
    "# 0. Load packages and imports"
   ]
  },
  {
   "cell_type": "code",
   "execution_count": 85,
   "metadata": {},
   "outputs": [],
   "source": [
    "## basic functionality\n",
    "import pandas as pd\n",
    "import numpy as np\n",
    "import re\n",
    "import os\n",
    "import plotnine\n",
    "from plotnine import *\n",
    "\n",
    "## repeated printouts\n",
    "from IPython.core.interactiveshell import InteractiveShell\n",
    "InteractiveShell.ast_node_interactivity = \"all\"\n"
   ]
  },
  {
   "cell_type": "markdown",
   "metadata": {},
   "source": [
    "## 1.1 Filter to defendants who were incarcerated and construct a sentence length variable (10 points)\n",
    "\n",
    "**Part A:**\n",
    "\n",
    "- Filter to sentences that involve incarceration (same Illinois Department of Corrections logic as in problem set two: \n",
    "incarceration is indicated by `COMMITMENT_TYPE` == \"Illinois Department of Corrections\")\n",
    "- Filter out non-numeric sentence lengths (e.g., Term, Pounds, or Dollars)\n",
    "- Filter to Black or White defendants\n",
    "\n",
    "**Concepts tested and resources**: this question tests filtering rows based on logical conditions. Here are some resources:\n",
    "- DataCamp on .loc: https://campus.datacamp.com/courses/data-manipulation-with-pandas/slicing-and-indexing-dataframes?ex=3\n",
    "- Row subsetting section in this activity: https://github.com/rebeccajohnson88/PPOL564_slides_activities/blob/main/activities/fall_22/solutions/01_pandas_datacleaning_solutions.ipynb\n"
   ]
  },
  {
   "cell_type": "markdown",
   "metadata": {},
   "source": [
    "### Part A"
   ]
  },
  {
   "cell_type": "code",
   "execution_count": 86,
   "metadata": {},
   "outputs": [
    {
     "name": "stderr",
     "output_type": "stream",
     "text": [
      "/var/folders/xl/m01l3f9d4wj5kbhrzm8dvp480000gn/T/ipykernel_49586/2905173249.py:4: DtypeWarning: Columns (10,11,16,25) have mixed types. Specify dtype option on import or set low_memory=False.\n"
     ]
    }
   ],
   "source": [
    "## your code here that reads in data and filters the rows\n",
    "\n",
    "# Import the dataset\n",
    "df = pd.read_csv(\"pset2_inputdata/sentencing_cleaned.csv\")\n",
    "\n",
    "#Filter to sentences that involve incarceration\n",
    "df_inc= df[df.COMMITMENT_TYPE==\"Illinois Department of Corrections\"]\n",
    "\n",
    "#Filter out non-numeric sentence lengths (e.g., Term, Pounds, or Dollars)\n",
    "df_inc = df_inc[df_inc.COMMITMENT_UNIT.isin([\"Dollars\", \"Pounds\", \"Term\"]) == False]\n",
    "\n",
    "#Filter to Black or White defendants\n",
    "df_bw = df_inc[df_inc.is_black_derived|df_inc.is_white_derived].copy()"
   ]
  },
  {
   "cell_type": "markdown",
   "metadata": {},
   "source": [
    "### Part B"
   ]
  },
  {
   "cell_type": "markdown",
   "metadata": {},
   "source": [
    "\n",
    "**Part B**: Then, follow the instructions in the codebook (combining `COMMITMENT_TERM` with `COMMITMENT_UNIT`) to create a standard sentence length in days column (`senlength_derived`) that measures the sentence in days. To simplify, you can assume that:\n",
    "\n",
    "- 1 hour = 1/24th of a day\n",
    "- 1 year = 365 days\n",
    "- 1 month = 30.5 days\n",
    "- 1 week = 7 days\n",
    "- Natural life = difference between the age of 100 and the defendant's age at incident (cleaned; if missing, code to age 20); note that this is a simplification since age at incident != age at sentencing \n",
    "\n",
    "Print the following cols for an example of each type (eg an example of originally hours; an example of natural life): `COMMITMENT_TERM`, `COMMITMENT_UNIT`, `age_derived` and your new standardized sentence length column\n",
    "\n",
    "Print the summary of that column (`senlength_derived`) using the .describe() command\n",
    "\n",
    "**Concepts tested and resources**: there are many approaches but a couple ways are:\n",
    "- np.select covered in the slides and this activity notebook: https://github.com/rebeccajohnson88/PPOL564_slides_activities/blob/main/activities/fall_22/solutions/01_pandas_datacleaning_solutions.ipynb\n",
    "- writing a function that takes in one row as an argument and has a series of if, elif, else conditions where different commitment_units are translated into days. To execute this function, you can use the .apply function but apply it with axis = 1 (row-wise). Resources for that include: (1) the activity notebook on user-defined functions (https://github.com/rebeccajohnson88/PPOL564_slides_activities/blob/main/activities/fall_22/solutions/02_functions_part1_solutions.ipynb); (2) the activity notebook covering apply (same as above)\n",
    "\n",
    "**Hint on output**: see GitHub issue for the summary stats we get from running .describe()"
   ]
  },
  {
   "cell_type": "code",
   "execution_count": 87,
   "metadata": {},
   "outputs": [],
   "source": [
    "## Your code here on translation of units\n",
    "import random\n",
    "\n",
    "#List of Conditions\n",
    "df_bw[\"COMMITMENT_TERM\"] = df_bw[\"COMMITMENT_TERM\"].astype(\"float\")\n",
    "\n",
    "\n",
    "condlist = [df_bw.COMMITMENT_UNIT==\"Hours\", \n",
    "            df_bw.COMMITMENT_UNIT==\"Year(s)\", \n",
    "            df_bw.COMMITMENT_UNIT==\"Months\", \n",
    "            df_bw.COMMITMENT_UNIT==\"Weeks\",\n",
    "            df_bw.COMMITMENT_UNIT==\"Natural Life\"]\n",
    "\n",
    "# List of Choices\n",
    "\n",
    "choicelist = [df_bw.COMMITMENT_TERM * (1/24),\n",
    "              df_bw.COMMITMENT_TERM * 365,\n",
    "              df_bw.COMMITMENT_TERM * 30.5,\n",
    "              df_bw.COMMITMENT_TERM * 7,\n",
    "             100 - df_bw.age_derived]\n",
    "              \n",
    "# Creating a standard sentence length in days column\n",
    "df_bw[\"senlength_derived\"] = np.select(condlist, choicelist)"
   ]
  },
  {
   "cell_type": "code",
   "execution_count": 88,
   "metadata": {},
   "outputs": [
    {
     "data": {
      "text/html": [
       "<div>\n",
       "<style scoped>\n",
       "    .dataframe tbody tr th:only-of-type {\n",
       "        vertical-align: middle;\n",
       "    }\n",
       "\n",
       "    .dataframe tbody tr th {\n",
       "        vertical-align: top;\n",
       "    }\n",
       "\n",
       "    .dataframe thead th {\n",
       "        text-align: right;\n",
       "    }\n",
       "</style>\n",
       "<table border=\"1\" class=\"dataframe\">\n",
       "  <thead>\n",
       "    <tr style=\"text-align: right;\">\n",
       "      <th></th>\n",
       "      <th>COMMITMENT_UNIT</th>\n",
       "      <th>COMMITMENT_TERM</th>\n",
       "      <th>age_derived</th>\n",
       "      <th>senlength_derived</th>\n",
       "    </tr>\n",
       "  </thead>\n",
       "  <tbody>\n",
       "    <tr>\n",
       "      <th>92475</th>\n",
       "      <td>Hours</td>\n",
       "      <td>1.0</td>\n",
       "      <td>22.0</td>\n",
       "      <td>0.041667</td>\n",
       "    </tr>\n",
       "    <tr>\n",
       "      <th>93684</th>\n",
       "      <td>Year(s)</td>\n",
       "      <td>1.0</td>\n",
       "      <td>47.0</td>\n",
       "      <td>365.000000</td>\n",
       "    </tr>\n",
       "    <tr>\n",
       "      <th>2363</th>\n",
       "      <td>Months</td>\n",
       "      <td>18.0</td>\n",
       "      <td>50.0</td>\n",
       "      <td>549.000000</td>\n",
       "    </tr>\n",
       "    <tr>\n",
       "      <th>15310</th>\n",
       "      <td>Weeks</td>\n",
       "      <td>2.0</td>\n",
       "      <td>23.0</td>\n",
       "      <td>14.000000</td>\n",
       "    </tr>\n",
       "    <tr>\n",
       "      <th>980</th>\n",
       "      <td>Natural Life</td>\n",
       "      <td>1.0</td>\n",
       "      <td>42.0</td>\n",
       "      <td>58.000000</td>\n",
       "    </tr>\n",
       "  </tbody>\n",
       "</table>\n",
       "</div>"
      ],
      "text/plain": [
       "      COMMITMENT_UNIT  COMMITMENT_TERM  age_derived  senlength_derived\n",
       "92475           Hours              1.0         22.0           0.041667\n",
       "93684         Year(s)              1.0         47.0         365.000000\n",
       "2363           Months             18.0         50.0         549.000000\n",
       "15310           Weeks              2.0         23.0          14.000000\n",
       "980      Natural Life              1.0         42.0          58.000000"
      ]
     },
     "execution_count": 88,
     "metadata": {},
     "output_type": "execute_result"
    }
   ],
   "source": [
    "## Your code here on printing example of each type of committment unit and what it's senlength_derived is\n",
    "\n",
    "# Print the four columns \"COMMITMENT_TERM\", \"COMMITEMENT_UNIT\", \"age_derived\", \"selength_derived\" \n",
    "# for when COMMITMENT UNIT is either \"Hours\", \"Year(s)\", \"Months\", \"Weeks\", \"Natural Life\"\n",
    "# I used random.choice so that it would choose any row that satisfies the condition\n",
    "\n",
    "example_df_bw = df_bw[[\"COMMITMENT_UNIT\", \"COMMITMENT_TERM\",\"age_derived\",\"senlength_derived\"]]\n",
    "example_df_bw=[example_df_bw.loc[random.choice(df_bw[df_bw.COMMITMENT_UNIT== ex].index.values.astype(\"int\"))] for ex in [\"Hours\", \"Year(s)\", \"Months\", \"Weeks\", \"Natural Life\"]]\n",
    "\n",
    "pd.DataFrame(example_df_bw)\n"
   ]
  },
  {
   "cell_type": "code",
   "execution_count": 5,
   "metadata": {},
   "outputs": [
    {
     "data": {
      "text/plain": [
       "count     58289.000000\n",
       "mean       1372.330221\n",
       "std        1930.066434\n",
       "min           0.000000\n",
       "25%         365.000000\n",
       "50%         915.000000\n",
       "75%        1460.000000\n",
       "max      147825.000000\n",
       "Name: senlength_derived, dtype: float64"
      ]
     },
     "execution_count": 5,
     "metadata": {},
     "output_type": "execute_result"
    }
   ],
   "source": [
    "## Your code here with the .describe() command summary of the senlength_derived column\n",
    "df_bw.senlength_derived.describe()"
   ]
  },
  {
   "cell_type": "markdown",
   "metadata": {},
   "source": [
    "## 1.2 Examine disparities in length within the same judge and offense category: constructing matched pairs (14 points)\n",
    "\n"
   ]
  },
  {
   "cell_type": "markdown",
   "metadata": {},
   "source": [
    "### Part A "
   ]
  },
  {
   "cell_type": "markdown",
   "metadata": {},
   "source": [
    "Keep the above ~58k row dataset subsetting only to sentences involving incarceration. Then, further subset the rows to:\n",
    "- Those sentenced `judgeid_derived` = `judge_21` \n",
    "- `simplified_offense_derived` == \"Narcotics\"\n",
    "\n",
    "Use `shape` to print the dimensions of the resulting dataframe\n",
    "\n",
    "**Concepts and resources**: row subsetting using logical conditions; see above resources\n",
    " "
   ]
  },
  {
   "cell_type": "code",
   "execution_count": 89,
   "metadata": {},
   "outputs": [
    {
     "data": {
      "text/plain": [
       "(53, 53)"
      ]
     },
     "execution_count": 89,
     "metadata": {},
     "output_type": "execute_result"
    }
   ],
   "source": [
    "## your code here to filter rows and check the shape\n",
    "\n",
    "\n",
    "#subseting to rows that \"judgeid_derived == judge 21\" and \"`simplified_offense_derived` == \"Narcotics\"\"\n",
    "df_bw_sp = df_bw[df_bw.judgeid_derived == \"judge_21\"]\n",
    "df_bw_sp = df_bw_sp[df_bw_sp.simplified_offense_derived == \"Narcotics\"]\n",
    "\n",
    "df_bw_sp.shape"
   ]
  },
  {
   "cell_type": "markdown",
   "metadata": {},
   "source": [
    "### Part B\n",
    "\n",
    "For each defendant sentenced by judge_21, you want to construct \"matched groups\" of defendants who:\n",
    "\n",
    "- Are the same exact age and\n",
    "- Are the same gender but \n",
    "- Differ in race from the focal defendant\n",
    "\n",
    "Write a user-defined function to find any/all matched defendants for each focal defendant of judge 21. You can structure the function in various ways but one way is to write a function similar to the class example where we find similar crimes to a focal crime for one focal crime; in this case, we want to:\n",
    "\n",
    "- Iterate over unique defendants sentenced by judge 21 (use `CASE_PARTICIPANT_ID` to identify each unique defendant)\n",
    "- Find other defendants in the judge 21 pool who (1) have a different race from that focal defendant but (2) the same gender and age \n",
    "\n",
    "\n",
    "**Concepts and resources**: \n",
    "\n",
    "- Slides and activity code on user-defined functions and iterating using list comprehension: https://github.com/rebeccajohnson88/PPOL564_slides_activities/blob/main/activities/fall_22/solutions/02_functions_part1_solutions.ipynb \n",
    "- You can either write code in the function to add columns with the attributes of the focal defendant (existing material) or using `pd.merge` to join these on after; we'll be covering `pd.merge` on Wednesday 09.21 but here are some slides (slide 17-20) from my previous course in meantime: https://github.com/rebeccajohnson88/qss20_slides_activities/blob/main/slides/s21_slides/qss20_s21_class4.pdf \n",
    "\n",
    "\n",
    "**Hints on output**: \n",
    "\n",
    "- Some focal defendants may not have any matches; they can be excluded from the results \n",
    "- In the way we wrote our function, each iteration of the function returns a single dataframe with the focal defendant's matched defendants\n"
   ]
  },
  {
   "cell_type": "code",
   "execution_count": 7,
   "metadata": {},
   "outputs": [],
   "source": [
    "## your code here to define function\n",
    "\n",
    "def find_match(ID, df):\n",
    "    #subsetting the dataframe so that it will only have the columns that we need \n",
    "    df=df[[\"CASE_PARTICIPANT_ID\", \"is_black_derived\", \"age_derived\", \"GENDER\", \"senlength_derived\"]].reset_index()\n",
    "    \n",
    "    #extracting the focal case in a single dataframe\n",
    "    focal = df[df.CASE_PARTICIPANT_ID == ID]\n",
    "    \n",
    "    #list comprehending dataframe so that match_age will only have those that have the same age with focal\n",
    "    match_age = pd.DataFrame([df.iloc[match_index] for match_index in df.index if (df.age_derived[match_index] == focal.age_derived.values)]).reset_index()\n",
    "    \n",
    "    #if there is more than one case that fit the age criterion, it continues to the second comparison\n",
    "    if len(match_age) != 0 : \n",
    "        \n",
    "        #cleaning the columns to ease the next list comprehension process\n",
    "        match_age = match_age[[\"index\", \"CASE_PARTICIPANT_ID\", \"is_black_derived\", \"age_derived\", \"GENDER\", \"senlength_derived\"]]\n",
    "\n",
    "        #list comprehending dataframe so that match_age will only have those that have the same gender with focal\n",
    "        match_gender = pd.DataFrame([match_age.iloc[match_index] for match_index in match_age.index if (match_age.GENDER[match_index] == focal.GENDER.values)]).reset_index()\n",
    "        \n",
    "        #if there is more than one case that fit the gender criterion, it continues to the second comparison\n",
    "        if len(match_gender) !=0 :\n",
    "            match_gender = match_gender[[\"index\", \"CASE_PARTICIPANT_ID\", \"is_black_derived\", \"age_derived\", \"GENDER\", \"senlength_derived\"]]\n",
    "\n",
    "            match_race = pd.DataFrame([match_gender.iloc[match_index] for match_index in match_gender.index if (match_gender.is_black_derived[match_index] != focal.is_black_derived.values)]).reset_index()\n",
    "\n",
    "            if len(match_race) != 0:\n",
    "                result = {\n",
    "                    'CASE_PARTICIPANT_ID_focal': [ID for a in range(len(match_race.CASE_PARTICIPANT_ID))],\n",
    "                    'CASE_PARTICIPANT_ID_match': match_race.CASE_PARTICIPANT_ID,\n",
    "                    'is_black_derived_focal': [focal.is_black_derived.values[0] for a in range(len(match_race.CASE_PARTICIPANT_ID))],\n",
    "                    'senlength_derived_focal': [focal.senlength_derived.values[0] for a in range(len(match_race.CASE_PARTICIPANT_ID))],\n",
    "                    'senlength_derived_match': match_race.senlength_derived\n",
    "                } \n",
    "                return pd.DataFrame(result)\n",
    "            else: return\n",
    "        else: return\n",
    "    else: return\n",
    "\n"
   ]
  },
  {
   "cell_type": "code",
   "execution_count": 8,
   "metadata": {},
   "outputs": [
    {
     "data": {
      "text/html": [
       "<div>\n",
       "<style scoped>\n",
       "    .dataframe tbody tr th:only-of-type {\n",
       "        vertical-align: middle;\n",
       "    }\n",
       "\n",
       "    .dataframe tbody tr th {\n",
       "        vertical-align: top;\n",
       "    }\n",
       "\n",
       "    .dataframe thead th {\n",
       "        text-align: right;\n",
       "    }\n",
       "</style>\n",
       "<table border=\"1\" class=\"dataframe\">\n",
       "  <thead>\n",
       "    <tr style=\"text-align: right;\">\n",
       "      <th></th>\n",
       "      <th>CASE_PARTICIPANT_ID_focal</th>\n",
       "      <th>CASE_PARTICIPANT_ID_match</th>\n",
       "      <th>is_black_derived_focal</th>\n",
       "      <th>senlength_derived_focal</th>\n",
       "      <th>senlength_derived_match</th>\n",
       "    </tr>\n",
       "  </thead>\n",
       "  <tbody>\n",
       "    <tr>\n",
       "      <th>0</th>\n",
       "      <td>808109112733</td>\n",
       "      <td>768307912970</td>\n",
       "      <td>True</td>\n",
       "      <td>2190.0</td>\n",
       "      <td>730.0</td>\n",
       "    </tr>\n",
       "    <tr>\n",
       "      <th>1</th>\n",
       "      <td>808109112733</td>\n",
       "      <td>769939231128</td>\n",
       "      <td>True</td>\n",
       "      <td>2190.0</td>\n",
       "      <td>730.0</td>\n",
       "    </tr>\n",
       "    <tr>\n",
       "      <th>2</th>\n",
       "      <td>808109112733</td>\n",
       "      <td>774967571640</td>\n",
       "      <td>True</td>\n",
       "      <td>2190.0</td>\n",
       "      <td>365.0</td>\n",
       "    </tr>\n",
       "  </tbody>\n",
       "</table>\n",
       "</div>"
      ],
      "text/plain": [
       "   CASE_PARTICIPANT_ID_focal  CASE_PARTICIPANT_ID_match  \\\n",
       "0               808109112733               768307912970   \n",
       "1               808109112733               769939231128   \n",
       "2               808109112733               774967571640   \n",
       "\n",
       "   is_black_derived_focal  senlength_derived_focal  senlength_derived_match  \n",
       "0                    True                   2190.0                    730.0  \n",
       "1                    True                   2190.0                    730.0  \n",
       "2                    True                   2190.0                    365.0  "
      ]
     },
     "execution_count": 8,
     "metadata": {},
     "output_type": "execute_result"
    }
   ],
   "source": [
    "## your code here to execute the function \n",
    "\n",
    "find_match(808109112733, df_bw_sp)"
   ]
  },
  {
   "cell_type": "markdown",
   "metadata": {},
   "source": [
    "**Part B**: using the results from Part A, use `pd.concat` or another approach to create a dataframe that compares the (1) race and sentence length for the focal defendant to (2) the sentence length for other defendants. Using this dataframe, show this comparison for focal defendant: `CASE_PARTICIPANT_ID` == `808109112733`\n"
   ]
  },
  {
   "cell_type": "code",
   "execution_count": 9,
   "metadata": {},
   "outputs": [
    {
     "data": {
      "text/html": [
       "<div>\n",
       "<style scoped>\n",
       "    .dataframe tbody tr th:only-of-type {\n",
       "        vertical-align: middle;\n",
       "    }\n",
       "\n",
       "    .dataframe tbody tr th {\n",
       "        vertical-align: top;\n",
       "    }\n",
       "\n",
       "    .dataframe thead th {\n",
       "        text-align: right;\n",
       "    }\n",
       "</style>\n",
       "<table border=\"1\" class=\"dataframe\">\n",
       "  <thead>\n",
       "    <tr style=\"text-align: right;\">\n",
       "      <th></th>\n",
       "      <th>CASE_PARTICIPANT_ID_focal</th>\n",
       "      <th>CASE_PARTICIPANT_ID_match</th>\n",
       "      <th>is_black_derived_focal</th>\n",
       "      <th>senlength_derived_focal</th>\n",
       "      <th>senlength_derived_match</th>\n",
       "    </tr>\n",
       "  </thead>\n",
       "  <tbody>\n",
       "    <tr>\n",
       "      <th>56</th>\n",
       "      <td>808109112733</td>\n",
       "      <td>768307912970</td>\n",
       "      <td>True</td>\n",
       "      <td>2190.0</td>\n",
       "      <td>730.0</td>\n",
       "    </tr>\n",
       "    <tr>\n",
       "      <th>57</th>\n",
       "      <td>808109112733</td>\n",
       "      <td>769939231128</td>\n",
       "      <td>True</td>\n",
       "      <td>2190.0</td>\n",
       "      <td>730.0</td>\n",
       "    </tr>\n",
       "    <tr>\n",
       "      <th>58</th>\n",
       "      <td>808109112733</td>\n",
       "      <td>774967571640</td>\n",
       "      <td>True</td>\n",
       "      <td>2190.0</td>\n",
       "      <td>365.0</td>\n",
       "    </tr>\n",
       "  </tbody>\n",
       "</table>\n",
       "</div>"
      ],
      "text/plain": [
       "    CASE_PARTICIPANT_ID_focal  CASE_PARTICIPANT_ID_match  \\\n",
       "56               808109112733               768307912970   \n",
       "57               808109112733               769939231128   \n",
       "58               808109112733               774967571640   \n",
       "\n",
       "    is_black_derived_focal  senlength_derived_focal  senlength_derived_match  \n",
       "56                    True                   2190.0                    730.0  \n",
       "57                    True                   2190.0                    730.0  \n",
       "58                    True                   2190.0                    365.0  "
      ]
     },
     "execution_count": 9,
     "metadata": {},
     "output_type": "execute_result"
    }
   ],
   "source": [
    "## your code to rowbind all matches and to highlight the comparison\n",
    "\n",
    "df_bw_compare = pd.concat([find_match(check, df_bw_sp) for check in df_bw_sp.CASE_PARTICIPANT_ID], ignore_index = True)\n",
    "\n",
    "## for the example defendant \n",
    "df_bw_compare[df_bw_compare.CASE_PARTICIPANT_ID_focal == 808109112733]"
   ]
  },
  {
   "cell_type": "markdown",
   "metadata": {},
   "source": [
    "**Part C**: group by the focal defendant's race and find the proportion of that defendant's matches who had a LONGER sentence than the focal defendant\n",
    "\n",
    "**Concepts and resources**: can use groupby and agg\n",
    "\n",
    "- Groupby and agg code: https://github.com/rebeccajohnson88/PPOL564_slides_activities/blob/main/activities/fall_22/solutions/01_pandas_datacleaning_solutions.ipynb"
   ]
  },
  {
   "cell_type": "code",
   "execution_count": 10,
   "metadata": {},
   "outputs": [
    {
     "data": {
      "text/html": [
       "<div>\n",
       "<style scoped>\n",
       "    .dataframe tbody tr th:only-of-type {\n",
       "        vertical-align: middle;\n",
       "    }\n",
       "\n",
       "    .dataframe tbody tr th {\n",
       "        vertical-align: top;\n",
       "    }\n",
       "\n",
       "    .dataframe thead th {\n",
       "        text-align: right;\n",
       "    }\n",
       "</style>\n",
       "<table border=\"1\" class=\"dataframe\">\n",
       "  <thead>\n",
       "    <tr style=\"text-align: right;\">\n",
       "      <th></th>\n",
       "      <th>CASE_PARTICIPANT_ID_focal</th>\n",
       "      <th>CASE_PARTICIPANT_ID_match</th>\n",
       "      <th>is_black_derived_focal</th>\n",
       "      <th>senlength_derived_focal</th>\n",
       "      <th>senlength_derived_match</th>\n",
       "      <th>is_matches_longer</th>\n",
       "    </tr>\n",
       "  </thead>\n",
       "  <tbody>\n",
       "    <tr>\n",
       "      <th>0</th>\n",
       "      <td>203605700713</td>\n",
       "      <td>780425400115</td>\n",
       "      <td>False</td>\n",
       "      <td>1095.0</td>\n",
       "      <td>1460.0</td>\n",
       "      <td>True</td>\n",
       "    </tr>\n",
       "    <tr>\n",
       "      <th>1</th>\n",
       "      <td>738433538059</td>\n",
       "      <td>778820978039</td>\n",
       "      <td>False</td>\n",
       "      <td>1825.0</td>\n",
       "      <td>8760.0</td>\n",
       "      <td>True</td>\n",
       "    </tr>\n",
       "    <tr>\n",
       "      <th>2</th>\n",
       "      <td>750050286216</td>\n",
       "      <td>784727452038</td>\n",
       "      <td>False</td>\n",
       "      <td>2190.0</td>\n",
       "      <td>1460.0</td>\n",
       "      <td>False</td>\n",
       "    </tr>\n",
       "    <tr>\n",
       "      <th>3</th>\n",
       "      <td>750050286216</td>\n",
       "      <td>784728112643</td>\n",
       "      <td>False</td>\n",
       "      <td>2190.0</td>\n",
       "      <td>1460.0</td>\n",
       "      <td>False</td>\n",
       "    </tr>\n",
       "    <tr>\n",
       "      <th>4</th>\n",
       "      <td>750050286216</td>\n",
       "      <td>784728961993</td>\n",
       "      <td>False</td>\n",
       "      <td>2190.0</td>\n",
       "      <td>1460.0</td>\n",
       "      <td>False</td>\n",
       "    </tr>\n",
       "  </tbody>\n",
       "</table>\n",
       "</div>"
      ],
      "text/plain": [
       "   CASE_PARTICIPANT_ID_focal  CASE_PARTICIPANT_ID_match  \\\n",
       "0               203605700713               780425400115   \n",
       "1               738433538059               778820978039   \n",
       "2               750050286216               784727452038   \n",
       "3               750050286216               784728112643   \n",
       "4               750050286216               784728961993   \n",
       "\n",
       "   is_black_derived_focal  senlength_derived_focal  senlength_derived_match  \\\n",
       "0                   False                   1095.0                   1460.0   \n",
       "1                   False                   1825.0                   8760.0   \n",
       "2                   False                   2190.0                   1460.0   \n",
       "3                   False                   2190.0                   1460.0   \n",
       "4                   False                   2190.0                   1460.0   \n",
       "\n",
       "   is_matches_longer  \n",
       "0               True  \n",
       "1               True  \n",
       "2              False  \n",
       "3              False  \n",
       "4              False  "
      ]
     },
     "execution_count": 10,
     "metadata": {},
     "output_type": "execute_result"
    },
    {
     "data": {
      "text/html": [
       "<div>\n",
       "<style scoped>\n",
       "    .dataframe tbody tr th:only-of-type {\n",
       "        vertical-align: middle;\n",
       "    }\n",
       "\n",
       "    .dataframe tbody tr th {\n",
       "        vertical-align: top;\n",
       "    }\n",
       "\n",
       "    .dataframe thead th {\n",
       "        text-align: right;\n",
       "    }\n",
       "</style>\n",
       "<table border=\"1\" class=\"dataframe\">\n",
       "  <thead>\n",
       "    <tr style=\"text-align: right;\">\n",
       "      <th></th>\n",
       "      <th>is_matches_longer</th>\n",
       "    </tr>\n",
       "    <tr>\n",
       "      <th>is_black_derived_focal</th>\n",
       "      <th></th>\n",
       "    </tr>\n",
       "  </thead>\n",
       "  <tbody>\n",
       "    <tr>\n",
       "      <th>False</th>\n",
       "      <td>0.451613</td>\n",
       "    </tr>\n",
       "    <tr>\n",
       "      <th>True</th>\n",
       "      <td>0.483871</td>\n",
       "    </tr>\n",
       "  </tbody>\n",
       "</table>\n",
       "</div>"
      ],
      "text/plain": [
       "                        is_matches_longer\n",
       "is_black_derived_focal                   \n",
       "False                            0.451613\n",
       "True                             0.483871"
      ]
     },
     "execution_count": 10,
     "metadata": {},
     "output_type": "execute_result"
    }
   ],
   "source": [
    "## your code here \n",
    "\n",
    "#Recording when the focal defendent's matches had a longer sentence than the focal defendant\n",
    "df_bw_compare[\"is_matches_longer\"] = df_bw_compare.senlength_derived_focal < df_bw_compare.senlength_derived_match\n",
    "df_bw_compare.head()\n",
    "\n",
    "#Grouping by race of the focal defendants\n",
    "df_bw_compare.groupby(\"is_black_derived_focal\").agg({\"is_matches_longer\": lambda x: sum(x)/len(x)})\n",
    "                                                \n"
   ]
  },
  {
   "cell_type": "markdown",
   "metadata": {},
   "source": [
    "**Part D**: write 1-2 lines commenting on the results from Part C. What other defendant or offense-level characteristics would you like to match on to investigate claims about racial disparities? \n"
   ]
  },
  {
   "cell_type": "markdown",
   "metadata": {},
   "source": [
    "The result of Part C shows that around 48% of the Black defendants received a longer sentence length compared to the White defendants of the same age and gender for drug usage from the same judge. This result is higher than that of the White defendant, which was around 45%, conforming with the prevalent understanding on racial disparity in judicial ruling on drug usage.\n",
    "\n",
    "I also want to check if racial disparity exists in vehicle related crime as #BlackLivesMatter was ignited by the racial discrimination of the police force on the road. I want to analyze if this disparity extends to the court."
   ]
  },
  {
   "cell_type": "markdown",
   "metadata": {},
   "source": [
    "# 2. Optional extra credit/challenge exercise (1 point): impute possible judge demographic correlates of sentencing\n",
    "\n",
    "The previous exercises showed large differences in sentences between judges/differences in disparities. You become interested in how the judge's own demographic attributes are correlated with sentencing. Going back to the judge's name (`SENTENCE JUDGE`), parse their first name and try to probabilistically infer his or her gender. Then, investigate whether disparities differ between \"likely female\" and \"likely male\" judges. \n",
    "\n",
    "**Note on ethics of probabilistic inference of attributes based on name**: Using names to infer demographic characteristics has become increasingly popular with the rise of \"digital trace data\" that often lacks explicit demographic fields (e.g., tweets just have usernames and profiles; academic citation networks just have author names; voter registration records sometimes just have names and not race/ethnicity). But there are many valid ethical critiques of this practice. In the case of gender, a person's assigned name at birth clearly does not always map onto their self-identified gender, both due to gender fluidity and names like \"Morgan.\" A couple critiques I link to are:\n",
    "\n",
    "- [This blog post](https://scatter.wordpress.com/2021/07/30/who-writes-social-science/)\n",
    "- [Urban Institute ethical risks of race/ethnicity imputation - applies to gender](https://www.urban.org/research/publication/five-ethical-risks-consider-filling-missing-race-and-ethnicity-data)\n",
    "\n",
    " "
   ]
  },
  {
   "cell_type": "code",
   "execution_count": 11,
   "metadata": {},
   "outputs": [],
   "source": [
    "# insert code here\n",
    "import gender_guesser.detector as gender\n",
    "\n",
    "#finding the gender of the judges\n",
    "\n",
    "def find_judge_gender (name):\n",
    "\n",
    "    #Parse judges first name \n",
    "    parse = name.split(\" \")\n",
    "\n",
    "    #Infer the Gender of the judges name using the gender_guesser package\n",
    "    #Source https://pypi.org/project/gender-guesser/#description\n",
    "    d = gender.Detector(case_sensitive=False)\n",
    "    result = d.get_gender(parse[0])\n",
    "    \n",
    "    return result\n",
    "\n",
    "\n",
    "unique_judge_gender=[find_judge_gender(name) for name in df_bw.SENTENCE_JUDGE.unique()]\n",
    "\n",
    "\n"
   ]
  },
  {
   "cell_type": "code",
   "execution_count": 12,
   "metadata": {},
   "outputs": [
    {
     "data": {
      "text/plain": [
       "array(['Homicide', 'PROMIS Conversion', 'Narcotics', 'Battery',\n",
       "       'Burglary', 'Sex Crimes', 'Attempt Armed Robbery',\n",
       "       'Fleeing and Eluding', 'Retail Theft', 'DUI', 'Home Invasion',\n",
       "       'UUW - Unlawful Use of Weapon',\n",
       "       'Driving With Suspended Or Revoked License',\n",
       "       'Criminal Damage to Property', 'Armed Robbery',\n",
       "       'Deceptive Practice', 'Residential Burglary', 'Forgery', 'Robbery',\n",
       "       'Vehicle-related', 'Theft',\n",
       "       'Failure to Register as a Sex Offender', 'Identity Theft', 'Arson',\n",
       "       'Fraudulent ID', 'Violation Order Of Protection', 'Other Offense',\n",
       "       'Impersonating Police Officer', 'Credit Card Cases',\n",
       "       'Violate Bail Bond',\n",
       "       'Possession of Contraband in Penal Institution',\n",
       "       'Reckless Discharge of Firearm', 'Criminal Trespass To Residence',\n",
       "       'Major Accidents', 'Fraud', 'Disarming Police Officer',\n",
       "       'Unlawful Restraint', 'Stalking', 'Prostitution',\n",
       "       'Discharge Firearm', 'Assault Police Officer', 'Kidnapping',\n",
       "       'Bribery', 'Escape - Failure to Return', 'Intimidation',\n",
       "       'Child Pornography', 'Bomb Threat', 'Obstructing Justice',\n",
       "       'Perjury', 'Child Abduction', 'Theft by Deception',\n",
       "       'Possession Of Burglary Tools', 'Communicating With Witness',\n",
       "       'Human Trafficking', 'Possession of Explosives', 'Dog Fighting',\n",
       "       'Gun Running', 'Hate Crimes', 'Gun - Non UUW',\n",
       "       'Violation of Sex Offender Registration', 'Armed Violence'],\n",
       "      dtype=object)"
      ]
     },
     "execution_count": 12,
     "metadata": {},
     "output_type": "execute_result"
    }
   ],
   "source": []
  },
  {
   "cell_type": "code",
   "execution_count": 21,
   "metadata": {},
   "outputs": [
    {
     "data": {
      "text/html": [
       "<div>\n",
       "<style scoped>\n",
       "    .dataframe tbody tr th:only-of-type {\n",
       "        vertical-align: middle;\n",
       "    }\n",
       "\n",
       "    .dataframe tbody tr th {\n",
       "        vertical-align: top;\n",
       "    }\n",
       "\n",
       "    .dataframe thead th {\n",
       "        text-align: right;\n",
       "    }\n",
       "</style>\n",
       "<table border=\"1\" class=\"dataframe\">\n",
       "  <thead>\n",
       "    <tr style=\"text-align: right;\">\n",
       "      <th></th>\n",
       "      <th>CASE_PARTICIPANT_ID</th>\n",
       "      <th>is_black_derived</th>\n",
       "      <th>age_derived</th>\n",
       "      <th>GENDER</th>\n",
       "      <th>senlength_derived</th>\n",
       "      <th>gender_clean</th>\n",
       "    </tr>\n",
       "  </thead>\n",
       "  <tbody>\n",
       "    <tr>\n",
       "      <th>0</th>\n",
       "      <td>124725626142</td>\n",
       "      <td>True</td>\n",
       "      <td>19.0</td>\n",
       "      <td>Male</td>\n",
       "      <td>365.0</td>\n",
       "      <td>likely male</td>\n",
       "    </tr>\n",
       "    <tr>\n",
       "      <th>1</th>\n",
       "      <td>158374606651</td>\n",
       "      <td>True</td>\n",
       "      <td>30.0</td>\n",
       "      <td>Male</td>\n",
       "      <td>730.0</td>\n",
       "      <td>likely female</td>\n",
       "    </tr>\n",
       "    <tr>\n",
       "      <th>2</th>\n",
       "      <td>175100572310</td>\n",
       "      <td>False</td>\n",
       "      <td>38.0</td>\n",
       "      <td>Male</td>\n",
       "      <td>1460.0</td>\n",
       "      <td>likely male</td>\n",
       "    </tr>\n",
       "    <tr>\n",
       "      <th>3</th>\n",
       "      <td>175068297012</td>\n",
       "      <td>True</td>\n",
       "      <td>25.0</td>\n",
       "      <td>Male</td>\n",
       "      <td>365.0</td>\n",
       "      <td>likely male</td>\n",
       "    </tr>\n",
       "    <tr>\n",
       "      <th>4</th>\n",
       "      <td>172173051740</td>\n",
       "      <td>False</td>\n",
       "      <td>30.0</td>\n",
       "      <td>Male</td>\n",
       "      <td>2190.0</td>\n",
       "      <td>likely male</td>\n",
       "    </tr>\n",
       "  </tbody>\n",
       "</table>\n",
       "</div>"
      ],
      "text/plain": [
       "   CASE_PARTICIPANT_ID  is_black_derived  age_derived GENDER  \\\n",
       "0         124725626142              True         19.0   Male   \n",
       "1         158374606651              True         30.0   Male   \n",
       "2         175100572310             False         38.0   Male   \n",
       "3         175068297012              True         25.0   Male   \n",
       "4         172173051740             False         30.0   Male   \n",
       "\n",
       "   senlength_derived   gender_clean  \n",
       "0              365.0    likely male  \n",
       "1              730.0  likely female  \n",
       "2             1460.0    likely male  \n",
       "3              365.0    likely male  \n",
       "4             2190.0    likely male  "
      ]
     },
     "execution_count": 21,
     "metadata": {},
     "output_type": "execute_result"
    },
    {
     "data": {
      "text/html": [
       "<div>\n",
       "<style scoped>\n",
       "    .dataframe tbody tr th:only-of-type {\n",
       "        vertical-align: middle;\n",
       "    }\n",
       "\n",
       "    .dataframe tbody tr th {\n",
       "        vertical-align: top;\n",
       "    }\n",
       "\n",
       "    .dataframe thead th {\n",
       "        text-align: right;\n",
       "    }\n",
       "</style>\n",
       "<table border=\"1\" class=\"dataframe\">\n",
       "  <thead>\n",
       "    <tr style=\"text-align: right;\">\n",
       "      <th></th>\n",
       "      <th>senlength_derived</th>\n",
       "    </tr>\n",
       "    <tr>\n",
       "      <th>gender_clean</th>\n",
       "      <th></th>\n",
       "    </tr>\n",
       "  </thead>\n",
       "  <tbody>\n",
       "    <tr>\n",
       "      <th>likely female</th>\n",
       "      <td>957.919429</td>\n",
       "    </tr>\n",
       "    <tr>\n",
       "      <th>likely male</th>\n",
       "      <td>960.517406</td>\n",
       "    </tr>\n",
       "    <tr>\n",
       "      <th>nan</th>\n",
       "      <td>928.886905</td>\n",
       "    </tr>\n",
       "  </tbody>\n",
       "</table>\n",
       "</div>"
      ],
      "text/plain": [
       "               senlength_derived\n",
       "gender_clean                    \n",
       "likely female         957.919429\n",
       "likely male           960.517406\n",
       "nan                   928.886905"
      ]
     },
     "execution_count": 21,
     "metadata": {},
     "output_type": "execute_result"
    }
   ],
   "source": [
    "judge_gender= pd.DataFrame({\n",
    "    \"name\": df_bw.SENTENCE_JUDGE.unique(),\n",
    "    \"gender\": unique_judge_gender\n",
    "})\n",
    "\n",
    "\n",
    "#List of Conditions\n",
    "\n",
    "condlist = [judge_gender.gender==\"male\", \n",
    "            judge_gender.gender==\"female\", \n",
    "            judge_gender.gender==\"mostly male\", \n",
    "            judge_gender.gender==\"mostly female\",\n",
    "            judge_gender.gender==\"unknown\"]\n",
    "\n",
    "# List of Choices\n",
    "\n",
    "choicelist = [\"likely male\",\n",
    "              \"likely female\",\n",
    "              \"likely male\",\n",
    "              \"likely female\",\n",
    "              \"nan\"]\n",
    "\n",
    "\n",
    "judge_gender[\"gender_clean\"] = np.select(condlist, choicelist, default = \"nan\")\n",
    "\n",
    "df_bw_merge = df_bw\n",
    "\n",
    "#Filtering it for simplified_offense_derived == \"Narcotics\"\n",
    "\n",
    "df_bw_merge = df_bw_merge[df_bw_merge.simplified_offense_derived == \"Narcotics\"]\n",
    "df_bw_merge = df_bw_merge.merge(judge_gender, left_on = \"SENTENCE_JUDGE\", right_on = \"name\", how = \"left\")\n",
    "df_bw_merge = df_bw_merge[['CASE_PARTICIPANT_ID', 'is_black_derived', 'age_derived', 'GENDER', 'senlength_derived', \"gender_clean\"]]\n",
    "\n",
    "df_bw_merge.head()\n",
    "\n",
    "# df_bw_gender_f = pd.concat([find_match(check, df_bw_merge) for check in df_bw_merge.CASE_PARTICIPANT_ID], ignore_index = True)\n",
    "\n",
    "#find the racial disparities between \"likely female\" and \"likely male\" judges  \n",
    "df_bw_merge.groupby(\"gender_clean\").agg({\"senlength_derived\": lambda x: sum(x)/len(x)})\n"
   ]
  },
  {
   "cell_type": "markdown",
   "metadata": {},
   "source": [
    "Although this result aggregates all types of crimes and demographies of the defendants, judges with male sounding names gave a longer sentence length (around 2.5~3 days) in average compared to those with female sounding names. Assuming that all the random variables affected all judges equally, we may infer that female judges may be more lenient than the male judges. However, this is a very dangerous conclusion because there may be so many other variables that could have been involved. (e.g. maybe female judges took low-profile crimes in comparsion to male judges due to gender bias.) "
   ]
  },
  {
   "cell_type": "markdown",
   "metadata": {},
   "source": [
    "# 3. Optional extra credit/challenge exercise (1 point): examine disparities across multiple judges\n",
    "\n",
    "In problem 1.2, we focused on one judge: judge 21\n",
    "    \n",
    "For this extra credit exercise:\n",
    "    \n",
    "- Get judges with a sufficient sample size: filter to each judge with at least 20 Black and at least 20 white defendants\n",
    "- Calculate the within-judge disparity and plot the (1) median sentence length for Black defendants and (2) median sentence length for white defendants (factor variable on x axis for each judge_id who qualifies; group by race)\n",
    "- Write a 1-2 sentence interpretation - if we assume that cases/defendants are randomly assigned to sentencing judges, what might this suggest about the role of judicial discretion in these disparities?\n"
   ]
  },
  {
   "cell_type": "code",
   "execution_count": 119,
   "metadata": {},
   "outputs": [
    {
     "data": {
      "image/png": "[encoded data removed]",
      "text/plain": [
       "<Figure size 640x480 with 1 Axes>"
      ]
     },
     "metadata": {},
     "output_type": "display_data"
    },
    {
     "data": {
      "text/plain": [
       "<ggplot: (8793227235675)>"
      ]
     },
     "execution_count": 119,
     "metadata": {},
     "output_type": "execute_result"
    }
   ],
   "source": [
    "# insert code here\n",
    "\n",
    "\n",
    "#Get judges with a sufficient sample size: filter to each judge with at least 20 Black and at least 20 white defendants\n",
    "\n",
    "black_judge_case = df_bw.groupby(\"judgeid_derived\").agg({\"is_black_derived\": \"sum\"})\n",
    "black_judge_case = black_judge_case[black_judge_case.is_black_derived >=20].reset_index()\n",
    "white_judge_case = df_bw.groupby(\"judgeid_derived\").agg({\"is_white_derived\": \"sum\"})\n",
    "white_judge_case = white_judge_case[white_judge_case.is_white_derived >=20].reset_index()\n",
    "\n",
    "sample_judge= pd.merge(black_judge_case, white_judge_case, how = \"inner\", on = \"judgeid_derived\")\n",
    "\n",
    "#Calculate the within-judge disparity and plot the (1) median sentence length for Black defendants and (2) median sentence length for white defendants (factor variable on x axis for each judge_id who qualifies; group by race)\n",
    "\n",
    "df_graph = df_bw[[\"judgeid_derived\", \"is_black_derived\", \"is_white_derived\", \"senlength_derived\"]].copy()\n",
    "df_graph[\"is_sample\"] = [True if (sample_judge.judgeid_derived.eq(judge)).any() else False for judge in df_graph.judgeid_derived]\n",
    "\n",
    "df_graph = df_graph[df_graph.is_sample]\n",
    "\n",
    "df_graph= df_graph.groupby([\"judgeid_derived\",\"is_white_derived\", \"is_black_derived\"]).agg(\"median\").reset_index()\n",
    "\n",
    "df_graph[\"race\"] = np.where((df_graph.is_white_derived == True) & (df_graph.is_black_derived == False), \"White\", \"NA\")\n",
    "df_graph[\"race\"] = np.where((df_graph.is_white_derived == False) & (df_graph.is_black_derived == True), \"Black\", df_graph[\"race\"])\n",
    "\n",
    "df_graph= df_graph[['judgeid_derived', \"race\", \"senlength_derived\"]]\n",
    "\n",
    "#Since I have 80 judges that satisfy the requirement, I decided to choose just the top 10 judges that gave the highest median sentences on the list.\n",
    "#I \n",
    "select_judge = df_graph.sort_values(\"senlength_derived\", ascending = False).judgeid_derived.unique()[0:9]\n",
    "\n",
    "df_graph = df_graph[df_graph.judgeid_derived.isin(select_judge)] \n",
    "\n",
    "((plotnine.ggplot(df_graph, plotnine.aes(x='reorder(judgeid_derived, senlength_derived, ascending = False)', y='senlength_derived', fill='race')) \n",
    "  +plotnine.geom_col(stat='identity', position='dodge')\n",
    "  +plotnine.theme(axis_text_x = plotnine.element_text(angle=90))\n",
    "  +plotnine.xlab(\"Judge ID\")\n",
    "  +plotnine.ylab(\"Number of Sentenced Days\")))\n"
   ]
  },
  {
   "cell_type": "markdown",
   "metadata": {},
   "source": [
    " #Write a 1-2 sentence interpretation - if we assume that cases/defendants are randomly assigned to sentencing judges, what might this suggest about the role of judicial discretion in these disparities?\n",
    "\n",
    "The top ten judges with the highest median values of sentenced days tend to give White defendants more sentenced days than the Black defendants. However, Judge_305 was an exception - the median value of the Black defendant was higher in about a few hundreds day. This data suggests that the number of sentenced race may vary based on race when we assume all factors are randomized. Regardless of the race that received higher sentence, it is undeniable that there is a disparity between the two racial category. However, I believe further discussion (including analyzing whether the trend extends to other judges) is necessary to derive a conclusion. "
   ]
  }
 ],
 "metadata": {
  "kernelspec": {
   "display_name": "Python 3 (ipykernel)",
   "language": "python",
   "name": "python3"
  },
  "language_info": {
   "codemirror_mode": {
    "name": "ipython",
    "version": 3
   },
   "file_extension": ".py",
   "mimetype": "text/x-python",
   "name": "python",
   "nbconvert_exporter": "python",
   "pygments_lexer": "ipython3",
   "version": "3.9.12"
  }
 },
 "nbformat": 4,
 "nbformat_minor": 4
}
